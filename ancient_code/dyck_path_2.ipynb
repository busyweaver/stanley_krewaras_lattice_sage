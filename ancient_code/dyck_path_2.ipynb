{
 "cells": [
  {
   "cell_type": "code",
   "execution_count": 1,
   "metadata": {},
   "outputs": [],
   "source": [
    "%run generalized_rotations.ipynb"
   ]
  },
  {
   "cell_type": "code",
   "execution_count": 2,
   "metadata": {},
   "outputs": [],
   "source": [
    "def is_increasing(t):\n",
    "    for i in srange(0,len(t)-1):\n",
    "        if t[i]>t[i+1] or t[i]<0:\n",
    "            return 0\n",
    "    return 1\n",
    "        \n",
    "def is_dyck_path(t,d):\n",
    "    if is_increasing(t):\n",
    "        for i in srange(0,len(t)):\n",
    "            if t[i]>d*i:\n",
    "                return 0\n",
    "    else:\n",
    "        return 0\n",
    "    return 1"
   ]
  },
  {
   "cell_type": "code",
   "execution_count": 3,
   "metadata": {},
   "outputs": [
    {
     "name": "stdout",
     "output_type": "stream",
     "text": [
      "[5, 3, 1]\n"
     ]
    }
   ],
   "source": [
    "#from mireille paper\n",
    "def dyck_a_chemin_non_normalise(t,d):\n",
    "    res=[]\n",
    "    for i in srange(1,len(t)):\n",
    "        res=res+[1]\n",
    "        for j in range(t[i]-t[i-1]):\n",
    "            res.append(-1)\n",
    "    res=res+[1]+[-1 for k in range(len(t)*d-t[len(t)-1])]\n",
    "    return res\n",
    "def dyck_a_chemin(t,d):\n",
    "    res=[]\n",
    "    for i in srange(1,len(t)):\n",
    "        res=res+[1 for k in srange(d)]\n",
    "        for j in range(t[i]-t[i-1]):\n",
    "            res.append(-1)\n",
    "    res=res+[1 for k in range(d)]+[-1 for k in range(len(t)*d-t[len(t)-1])]\n",
    "\n",
    "    return res\n",
    "#print (dyck_a_chemin([0,1,1],1)) \n",
    "def chemin_a_dyck_bis(t,d,l,i):\n",
    "    if t==[]:\n",
    "        return l\n",
    "    elif t[0]==1:\n",
    "        for j in range(d):\n",
    "            t.pop(0)\n",
    "        return chemin_a_dyck_bis(t,d,l+[i],i)\n",
    "    else:\n",
    "        t.pop(0)\n",
    "        return chemin_a_dyck_bis(t,d,l,i+1)\n",
    "        \n",
    "    \n",
    "def chemin_a_dyck(t,d):\n",
    "    l=deepcopy(t)\n",
    "    return chemin_a_dyck_bis(l,d,[],0)\n",
    "def codage_miroir_chemin(l):\n",
    "    l=deepcopy(l)\n",
    "    for i in range(0,len(l)):\n",
    "        if l[i]==1:\n",
    "            l[i]=-1\n",
    "        else:\n",
    "            l[i]=1\n",
    "    l.reverse()\n",
    "    return l\n",
    "def codage_miroir(x,d):\n",
    "    #print (\"fun\",x)\n",
    "    l=dyck_a_chemin(x,d)\n",
    "    #print (l)\n",
    "    l=codage_miroir_chemin(l)\n",
    "    #print(l)\n",
    "    l=chemin_a_dyck(l,d)\n",
    "    return l\n",
    "def carre_dessous(t,d):\n",
    "    x=dyck_a_chemin_non_normalise(t,d)\n",
    "    nb_hor=0\n",
    "    tab_hor=[]\n",
    "    nb_ver=0\n",
    "    res=[]\n",
    "    for i in range(0,len(x)):\n",
    "        if(x[i]==-1):\n",
    "            nb_hor=nb_hor+1\n",
    "            tab_hor.append([nb_hor,nb_ver])\n",
    "            if(nb_hor%d==0):\n",
    "                niveau_ligne_bas=(nb_hor-1)/d\n",
    "                res.append( sum( tab_hor[nb_hor-kk-1][1]-niveau_ligne_bas   for kk in range(0,d))  )\n",
    "        else:\n",
    "            nb_ver=nb_ver+1\n",
    "    return res\n",
    "t=[0,0,0]\n",
    "d=2\n",
    "#print (dyck_a_chemin([0,1,1],1))\n",
    "#print (chemin_a_dyck(dyck_a_chemin([0,1,1],1),1))\n",
    "#x=dyck_a_chemin([0,1,1],1)\n",
    "#print (\"x\",x)\n",
    "#x=codage_miroir_chemin(x)\n",
    "#print (\"x\",x)\n",
    "\n",
    "#print (chemin_a_dyck(x,1))\n",
    "#x=[0,1]\n",
    "#print (x)\n",
    "#print (codage_miroir(x,2))\n",
    "print(carre_dessous(t,d))\n",
    "# print chemin_a_dyck(dyck_a_chemin([0,1,2],2),2)"
   ]
  },
  {
   "cell_type": "code",
   "execution_count": 4,
   "metadata": {},
   "outputs": [],
   "source": [
    "def generate_pairs_ordered(n,limit=Infinity):\n",
    "    l=[]\n",
    "    lim=0\n",
    "    for i in srange(0,n):\n",
    "        for j in srange(i,n):\n",
    "            r=[i,j]\n",
    "            if r not in l:\n",
    "                lim=lim+1\n",
    "                l.append(r)\n",
    "                if lim>limit:\n",
    "                    return l\n",
    "    return l\n",
    "def primitive_subsequences(t,r):\n",
    "#     print \"t\",t,\"r\",r\n",
    "    res=[]\n",
    "    n=len(t)\n",
    "    p=generate_pairs_ordered(n)\n",
    "    for [i,k] in p:\n",
    "        v=1\n",
    "        for j in srange(i+1,k+1):\n",
    "            if t[j]-t[i]>=r*(j-i):\n",
    "                v=0\n",
    "        if k!=(n-1):\n",
    "            #print \"n\",n,\"k\",k\n",
    "            if t[k+1]-t[i]<r*(k+1-i):\n",
    "                v=0\n",
    "        if v==1:\n",
    "            res.append([i,k])\n",
    "    return res\n",
    "# print primitive_subsequences([0,2,4,6,8],2)\n",
    "#def dyck_below_strict(t,d):\n",
    "    \n",
    "\n",
    "def dyck_tamari(t,d):\n",
    "#     print \"db,t\",t,\"d\",d\n",
    "    res=[]\n",
    "    l=primitive_subsequences(t,d)\n",
    "    ll=[]\n",
    "    for i in srange(1,len(t)):\n",
    "        if t[i]>t[i-1]:\n",
    "            ll.append(l[i])\n",
    "    for [i,k] in ll:\n",
    "        x=deepcopy(t)\n",
    "        for j in srange(i,k+1):\n",
    "            x[j]=t[j]-1\n",
    "        res.append(x)\n",
    "    return res\n",
    "# print dyck_tamari([0, 1, 2, 2, 7, 10],2)\n",
    "# print dyck_tamari([0, 1, 2, 2, 7],2)\n",
    "\n",
    "#print primitive_subsequences([0,0,3,6,7],2)"
   ]
  },
  {
   "cell_type": "code",
   "execution_count": 5,
   "metadata": {},
   "outputs": [
    {
     "name": "stdout",
     "output_type": "stream",
     "text": [
      "[0, 1, 3]\n"
     ]
    },
    {
     "ename": "NameError",
     "evalue": "name 'trouver_racine' is not defined",
     "output_type": "error",
     "traceback": [
      "\u001b[0;31m---------------------------------------------------------------------------\u001b[0m",
      "\u001b[0;31mNameError\u001b[0m                                 Traceback (most recent call last)",
      "\u001b[0;32m<ipython-input-5-9bbf40f48db6>\u001b[0m in \u001b[0;36m<module>\u001b[0;34m\u001b[0m\n\u001b[1;32m     70\u001b[0m \u001b[0mprint\u001b[0m\u001b[0;34m(\u001b[0m\u001b[0mt\u001b[0m\u001b[0;34m)\u001b[0m\u001b[0;34m\u001b[0m\u001b[0;34m\u001b[0m\u001b[0m\n\u001b[1;32m     71\u001b[0m \u001b[0;32mfor\u001b[0m \u001b[0mi\u001b[0m \u001b[0;32min\u001b[0m \u001b[0mrange\u001b[0m\u001b[0;34m(\u001b[0m\u001b[0mInteger\u001b[0m\u001b[0;34m(\u001b[0m\u001b[0;36m0\u001b[0m\u001b[0;34m)\u001b[0m\u001b[0;34m,\u001b[0m\u001b[0mlen\u001b[0m\u001b[0;34m(\u001b[0m\u001b[0mt\u001b[0m\u001b[0;34m)\u001b[0m\u001b[0;34m)\u001b[0m\u001b[0;34m:\u001b[0m\u001b[0;34m\u001b[0m\u001b[0;34m\u001b[0m\u001b[0m\n\u001b[0;32m---> 72\u001b[0;31m     \u001b[0mprint\u001b[0m\u001b[0;34m(\u001b[0m\u001b[0mtrouver_racine\u001b[0m\u001b[0;34m(\u001b[0m\u001b[0mt\u001b[0m\u001b[0;34m,\u001b[0m\u001b[0mi\u001b[0m\u001b[0;34m,\u001b[0m\u001b[0md\u001b[0m\u001b[0;34m)\u001b[0m\u001b[0;34m)\u001b[0m\u001b[0;34m\u001b[0m\u001b[0;34m\u001b[0m\u001b[0m\n\u001b[0m\u001b[1;32m     73\u001b[0m \u001b[0;31m#print(\"lui meme\")\u001b[0m\u001b[0;34m\u001b[0m\u001b[0;34m\u001b[0m\u001b[0;34m\u001b[0m\u001b[0m\n\u001b[1;32m     74\u001b[0m \u001b[0mprint\u001b[0m\u001b[0;34m(\u001b[0m\u001b[0mdyck_a_arbre\u001b[0m\u001b[0;34m(\u001b[0m\u001b[0mt\u001b[0m\u001b[0;34m,\u001b[0m\u001b[0md\u001b[0m\u001b[0;34m)\u001b[0m\u001b[0;34m)\u001b[0m\u001b[0;34m\u001b[0m\u001b[0;34m\u001b[0m\u001b[0m\n",
      "\u001b[0;31mNameError\u001b[0m: name 'trouver_racine' is not defined"
     ]
    }
   ],
   "source": [
    "def nb_elem(ab):\n",
    "    if ab==0:\n",
    "        return 1\n",
    "    else:\n",
    "        return sum( nb_elem(ab[i]) for i in srange(0,len(ab)) )+1\n",
    "def arbre_post_ordre(ab):\n",
    "    if ab==0:\n",
    "        return [0]\n",
    "    else:\n",
    "        l=[]\n",
    "#         print \"arbre post ordre ,ab\",ab\n",
    "        for i in srange(0,len(ab)):\n",
    "            l=l+arbre_post_ordre(ab[i])\n",
    "        l=[1]+l\n",
    "    return l\n",
    "\n",
    "def liste_a_arbre(l,d):\n",
    "#     print \"l\",l,\"d\",d\n",
    "    if l[0]==0:\n",
    "        return 0\n",
    "    elif l[0]==1:\n",
    "        r=[]\n",
    "        dec=1\n",
    "        for j in range(0,d):\n",
    "            x=liste_a_arbre(l[dec:],d)\n",
    "#             print \"dec\",dec\n",
    "            dec=dec+nb_elem(x)\n",
    "            r.append(x)\n",
    "#         print \"r\",r\n",
    "        return r\n",
    "    else:\n",
    "        print (\"probleme\")\n",
    "        \n",
    "\n",
    "def arbre_a_dyck(ab):\n",
    "    l=arbre_post_ordre(ab)\n",
    "    if l[0]==0:\n",
    "        print (\"probleme\")\n",
    "    else:\n",
    "        t=[0]\n",
    "        point=0\n",
    "        for i in srange(1,len(l)):\n",
    "            if l[i]==0:\n",
    "                point=point+1\n",
    "            else:\n",
    "                t.append(point)\n",
    "        return t\n",
    "    \n",
    "#print arbre_a_dyck([0, 0,[0, 0 ,[0,0,0] ] ]) \n",
    "\n",
    "def dyck_a_arbre(t,d):\n",
    "    if t[0]!=0:\n",
    "        print (\"probleme\")\n",
    "    else:\n",
    "        l=[]\n",
    "        for i in srange(1,len(t)):\n",
    "            l.append(1)\n",
    "            for j in srange(0,t[i]-t[i-1]):\n",
    "                l.append(0)\n",
    "        l.append(1)\n",
    "        for j in srange(0,d*len(t)-t[len(t)-1]+1):\n",
    "            l.append(0)\n",
    "#         print l\n",
    "        return liste_a_arbre(l,d+1)\n",
    "        \n",
    "            \n",
    "#print (dyck_a_arbre(arbre_a_dyck([[0,[0, 0 , 0 ],0],0,0 ]) ,2) )\n",
    "t=[0,1,3]\n",
    "d=2\n",
    "print(t)\n",
    "for i in range(0,len(t)):\n",
    "    print(trouver_racine(t,i,d))\n",
    "#print(\"lui meme\")\n",
    "print(dyck_a_arbre(t,d))\n",
    "#for e in rotations_semi_g(dyck_a_arbre(t,d),d+1):\n",
    "#    print(arbre_a_dyck(e))\n",
    "#print(\"yoy\")\n",
    "#x=codage_miroir(t,d)\n",
    "#for e in rotations_tamari_g(dyck_a_arbre(x,d),d+1):\n",
    "    #print(codage_miroir(arbre_a_dyck(e),d))\n",
    "#    print(arbre_a_dyck(e))\n",
    "\n",
    "#for e in dyck_tamari(t,d):\n",
    "#    print(e)\n",
    "#print (dyck_a_arbre(t,d))    \n",
    "#print arbre_post_ordre([0, 0,[0, 0 ,[0,0,0] ] ])\n",
    "#print liste_a_arbre([1, 0, 0, 1, 1, 0, 0, 0, 0, 0],3)    "
   ]
  },
  {
   "cell_type": "code",
   "execution_count": null,
   "metadata": {},
   "outputs": [],
   "source": [
    "#bijection ordre prefixe droite gauche\n",
    "def arbre_other_order(ab):\n",
    "    if ab==0:\n",
    "        return [0]\n",
    "    else:\n",
    "        l=[]\n",
    "\n",
    "        for i in srange(len(ab)-1,-1,-1):\n",
    "            l=l+arbre_other_order(ab[i])\n",
    "        l=[1]+l\n",
    "    return l\n",
    "\n",
    "def liste_a_arbre2(l,d):\n",
    "#     print \"l\",l,\"d\",d\n",
    "    if l[0]==0:\n",
    "        return 0\n",
    "    elif l[0]==1:\n",
    "        r=[-1 for k in range(d)]\n",
    "        dec=1\n",
    "        for j in range(0,d):\n",
    "            x=liste_a_arbre2(l[dec:],d)\n",
    "#             print \"dec\",dec\n",
    "            dec=dec+nb_elem(x)\n",
    "            r[d-1-j]=x\n",
    "#             r.append(x)\n",
    "#         print \"r\",r\n",
    "        return r\n",
    "    else:\n",
    "        print (\"probleme\")\n",
    "#ok        \n",
    "def arbre_a_dyck2(ab):\n",
    "    l=arbre_other_order(ab)\n",
    "    if l[0]==0:\n",
    "        print(\"probleme\")\n",
    "    else:\n",
    "        t=[0]\n",
    "        point=0\n",
    "        for i in srange(1,len(l)):\n",
    "            if l[i]==0:\n",
    "                point=point+1\n",
    "            else:\n",
    "                t.append(point)\n",
    "        return t\n",
    "\n",
    "def dyck_a_arbre2(t,d):\n",
    "    if t[0]!=0:\n",
    "        print (\"probleme\")\n",
    "    else:\n",
    "        l=[]\n",
    "        for i in srange(1,len(t)):\n",
    "            l.append(1)\n",
    "            for j in srange(0,t[i]-t[i-1]):\n",
    "                l.append(0)\n",
    "        l.append(1)\n",
    "        for j in srange(0,d*len(t)-t[len(t)-1]+1):\n",
    "            l.append(0)\n",
    "#         print l\n",
    "        return liste_a_arbre2(l,d+1)\n",
    "# print dyck_a_arbre2([0,1,2,4,8],2)\n",
    "# print rotations_semi_g([[0, 0, 0], [0, [[0, 0, 0], 0, 0], 0], 0],3)\n",
    "# print arbre_a_dyck2([[0, 0, 0], [[0, [0, 0, 0], 0], 0, 0], 0])"
   ]
  },
  {
   "cell_type": "code",
   "execution_count": 6,
   "metadata": {},
   "outputs": [],
   "source": [
    "def trouver_racine(t,ind,d):\n",
    "    for i in srange(ind-1,-1,-1):\n",
    "        x=deepcopy(t)\n",
    "        val=x[i]\n",
    "        for j in srange(i,ind+1):\n",
    "            x[j]=x[j]-val\n",
    "        #print \"x[i:ind+1]\",x[i:ind+1]\n",
    "        if is_dyck_path(x[i:ind+1],d):\n",
    "            return i\n",
    "    return -1\n",
    "def sortir_branche(t,dep,arriv,d):\n",
    "    counter=0\n",
    "    j=d+1\n",
    "    for i in srange(dep+1,arriv+1):\n",
    "        counter=counter+(t[i]-t[i-1])\n",
    "#         print \"counter\",counter\n",
    "        if counter >=j:\n",
    "#             print \"i\",i,\"counter\",counter\n",
    "            return i,counter-j\n",
    "        j=j+d\n",
    "    return -1,-1\n",
    "def avant_dernier_est_feuille(t,dep,arriv,d):\n",
    "#     print \"t\",t,\"dep\",dep,\"arriv\",arriv,\"d\",d\n",
    "    emplac=[0 for k in srange(d+1)]\n",
    "#     print \"diff\",t[dep+1]-t[dep]\n",
    "    prochain_noeud=t[dep+1]-t[dep]\n",
    "#     print \"prochain_noeud\",prochain_noeud\n",
    "    emplac[prochain_noeud]=1\n",
    "#     print \"emplac\",emplac\n",
    "    combien=0\n",
    "    if t[dep+1]==t[arriv] and t[dep+1]>0 and t[dep+1]<d:\n",
    "        return 1,-1\n",
    "    i=dep+1\n",
    "#     print \"i\",i\n",
    "    while(t[i]!=t[arriv]):\n",
    "  #  while(emplac[d-1]!=0):\n",
    "#         print \"appel sortir t\",t,\"i\",i,\"arriv\",arriv\n",
    "        dernier_noeud=i\n",
    "        x=sortir_branche(t,i,arriv,d)\n",
    "#         print \"x\",x\n",
    "        prochain_noeud+=(x[1]+1)\n",
    "#         print \"prochain_neoud\",prochain_noeud\n",
    "        emplac[prochain_noeud]=1\n",
    "#         print \"emplac\",emplac\n",
    "        i=x[0]\n",
    "#         print \"t[i]\",t[i],\"i\",i\n",
    "    if emplac[prochain_noeud-1]==0:\n",
    "        return 1,-1\n",
    "    else:\n",
    "        return 0,dernier_noeud\n",
    "    \n",
    "# print avant_dernier_est_feuille([0, 0, 3, 6, 8],0,3,2)        \n",
    "# print check_dernier_noeuds([0,0,3,4,5,10],1,2)\n",
    "# print trouver_racine_sous_arbre([0,0,3,4,5,10],1,2)"
   ]
  },
  {
   "cell_type": "code",
   "execution_count": 7,
   "metadata": {},
   "outputs": [],
   "source": [
    "def rotate_word(t,ind,m):\n",
    "    newWord = deepcopy(t)\n",
    "    difference = t[ind] - t[ind-1]\n",
    "    if ind < 1:\n",
    "        return \"WRONG\"\n",
    "    if difference == 0:\n",
    "        return None\n",
    "    else: \n",
    "    #trouver_racine(t,ind,m)>-1:\n",
    "        x=trouver_racine(t,ind,m)\n",
    "        res=avant_dernier_est_feuille(t,x,ind,m)\n",
    "#         print \"check der x\",x,\"t\",t,\"ind actu\",ind\n",
    "#         print \"res\",res\n",
    "        if res[0]==1:\n",
    "            newWord[ind]=newWord[ind]-1\n",
    "        else:\n",
    "            newWord.pop(ind)\n",
    "            newWord.insert(0, t[res[1]])\n",
    "            newWord.sort()\n",
    "    return newWord\n",
    "def rotate_word2(t,ind,m):\n",
    "    newWord = deepcopy(t)\n",
    "    difference = t[ind] - t[ind-1]\n",
    "    if ind < 1:\n",
    "        return \"WRONG\"\n",
    "    if difference == 0:\n",
    "        return None\n",
    "    else:\n",
    "#         print \"ind\",ind\n",
    "        counter=0\n",
    "        j=m+1\n",
    "        for i in srange(ind-1,-1,-1):\n",
    "            counter=counter+(t[i+1]-t[i])\n",
    "#             print \"boucle counter\",counter,\"j\",j\n",
    "            if counter <j: #on reste dans la branche\n",
    "#                 print \"ind\",ind,\"i\",i,\"j\",j,\"counter\",counter\n",
    "                while i<ind:\n",
    "                    counter=counter-(t[i+1]-t[i])\n",
    "                    j=j-m\n",
    "                    i=i+1\n",
    "#                     print \"before counter\",counter,\"j\",j\n",
    "                    if counter==j:\n",
    "                        newWord.pop(ind)\n",
    "                        newWord.insert(0, t[i])\n",
    "                        newWord.sort()\n",
    "                        return newWord\n",
    "                newWord[ind]=newWord[ind]-1\n",
    "                break\n",
    "            j=j+m\n",
    "        return newWord\n",
    "    #trouver_racine(t,ind,m)>-1:\n",
    "        \n",
    "        x=trouver_racine(t,ind,m)\n",
    "        res=avant_dernier_est_feuille(t,x,ind,m)\n",
    "#         print \"check der x\",x,\"t\",t,\"ind actu\",ind\n",
    "#         print \"res\",res\n",
    "        if res[0]==1:\n",
    "            newWord[ind]=newWord[ind]-1\n",
    "        else:\n",
    "            newWord.pop(ind)\n",
    "            newWord.insert(0, t[res[1]])\n",
    "            newWord.sort()\n",
    "    return newWord\n",
    "\n",
    "def dyck_semi(word,m):\n",
    "    allRotations = []\n",
    "    for index in range(1, len(word)):    \n",
    "        generatedWord = rotate_word(word, index, m)\n",
    "        if generatedWord != None:\n",
    "            allRotations.append(generatedWord)\n",
    "    return allRotations\n",
    "#genere les rotations sur l'autre ordre\n",
    "def dyck_semi2(word,m):\n",
    "    allRotations = []\n",
    "    for index in range(1, len(word)):    \n",
    "        generatedWord = rotate_word2(word, index, m)\n",
    "        if generatedWord != None:\n",
    "            allRotations.append(generatedWord)\n",
    "    return allRotations\n",
    "    \n",
    "\n",
    "e=[0, 0,1, 5, 7, 10]\n",
    "# print dyck_semi(e,2)\n",
    "# tt=[0, [[0, 0, 0], 0, 0], 0]\n",
    "x=dyck_a_arbre(e,2)\n",
    "# print dyck_semi2(e,2)\n",
    "ll=rotations_semi_g(x,3)\n",
    "# print [ arbre_a_dyck(i) for i in ll ]\n",
    "# print dyck_semi2(e,2)"
   ]
  },
  {
   "cell_type": "code",
   "execution_count": 8,
   "metadata": {},
   "outputs": [
    {
     "name": "stdout",
     "output_type": "stream",
     "text": [
      "[0, 0, 0, 4]\n",
      "[0, 0, 0, 4] carre [5, 3, 3, 1]\n",
      "[0, 0, 0, 4] carre [5, 3, 3, 1]\n",
      "[0, 0, 0, 3] carre [5, 4, 3, 1]\n",
      "[0, 0, 0, 2] carre [5, 5, 3, 1]\n",
      "[0, 0, 0, 1] carre [6, 5, 3, 1]\n",
      "rota directe\n",
      "[0, 0, 0, 3] carre [5, 4, 3, 1]\n",
      "indirect\n",
      "[0, 0, 0, 4] carre [5, 3, 3, 1]\n",
      "[0, 0, 0, 3] carre [5, 4, 3, 1]\n",
      "[0, 0, 0, 0] carre [7, 5, 3, 1]\n"
     ]
    }
   ],
   "source": [
    "#typ==0 tamari rotation, typ==1 semi rotation, typ==2 both rotations considered\n",
    "def generer_tout_d_depuis(c,d,typ):\n",
    "    D=dict()\n",
    "    i=0\n",
    "    D[tuple(c)]=i\n",
    "    pile=[c]\n",
    "    res=[c]\n",
    "    poset=dict()\n",
    "    while(pile!=[]):\n",
    "        x=pile[0]\n",
    "#         print \"hey , x\",x\n",
    "        #print \"verif\",x,res\n",
    "        if  1:\n",
    "            #res.append(x)\n",
    "            pile.pop(0)\n",
    "            #print \"hey\",x\n",
    "            if typ==0:\n",
    "#                 print \"hey , x\",x\n",
    "                l=dyck_tamari(x,d)\n",
    "            elif typ==2:\n",
    "                l1=dyck_tamari(x,d)\n",
    "                l2=dyck_semi2(x,d)\n",
    "                l=l1\n",
    "                for e in l2:\n",
    "                    if e not in l1:\n",
    "                        l.append(e)\n",
    "            elif typ==4:\n",
    "                l1=codage_miroir(x,d)\n",
    "                l2=dyck_tamari(l1,d)\n",
    "                l=[]\n",
    "                print(\"x\",x)\n",
    "                for e in l2:\n",
    "                    print (e)\n",
    "                    print (codage_miroir(e,2))\n",
    "                    l.append(codage_miroir(e,d))\n",
    "                \n",
    "            else:\n",
    "                l=dyck_semi2(x,d)\n",
    "            elem=[]\n",
    "#             print \"l \",l\n",
    "            for e in l:\n",
    "                if e not in res:\n",
    "#                     print \"e\",e\n",
    "                    res.append(e)\n",
    "                    i=i+1\n",
    "                    D[tuple(e)]=tuple(e)\n",
    "                    elem.append(D[tuple(e)])\n",
    "                    pile.append(e)\n",
    "                else:\n",
    "                    elem.append(D[tuple(e)])\n",
    "            poset[tuple(x)]=elem\n",
    "        else:\n",
    "            pile.pop(0)\n",
    "    return [res,poset]\n",
    "\n",
    "def generer_tout_dyck(n,d,typ):\n",
    "    prem=[d*i for i in srange(0,n)]\n",
    "    return generer_tout_d_depuis(prem,d,typ)\n",
    "\n",
    "def dyck_smaller_than_tamari(a,b,d):\n",
    "    if b in (generer_tout_d_depuis(a,d,0)[0]):\n",
    "        return 1\n",
    "    else:\n",
    "        return 0\n",
    "def dyck_smaller_than_semi(a,b,d):\n",
    "    if b in (generer_tout_d_depuis(a,d,1)[0]):\n",
    "        return 1\n",
    "    else:\n",
    "        return 0\n",
    "t=[0,0,0,4]\n",
    "d=2\n",
    "print(t)\n",
    "print(t,\"carre\",carre_dessous(t,d))\n",
    "print([0,0,0,4],\"carre\",carre_dessous([0,0,0,4],d))\n",
    "print([0,0,0,3],\"carre\",carre_dessous([0,0,0,3],d))\n",
    "print([0,0,0,2],\"carre\",carre_dessous([0,0,0,2],d))\n",
    "print([0,0,0,1],\"carre\",carre_dessous([0,0,0,1],d))\n",
    "\n",
    "print(\"rota directe\")\n",
    "for e in rotations_semi_g(dyck_a_arbre(t,d),d+1):\n",
    "    print(arbre_a_dyck(e),\"carre\",carre_dessous(arbre_a_dyck(e),d))\n",
    "print(\"indirect\")\n",
    "    \n",
    "for e in generer_tout_d_depuis(t,d,1)[0]:\n",
    "    print(e,\"carre\",carre_dessous(e,d))\n",
    "# print dyck_smaller_than_tamari([0,2,4],[0,2,4],2)\n",
    "# print generer_tout_dyck(4,2,0)[0]\n",
    "# l[1]"
   ]
  },
  {
   "cell_type": "code",
   "execution_count": 9,
   "metadata": {},
   "outputs": [
    {
     "name": "stdout",
     "output_type": "stream",
     "text": [
      "[1, 2] 3\n",
      "[1, 6, 5] 12\n",
      "moyenne\n",
      "[2/3, 4/3]\n"
     ]
    }
   ],
   "source": [
    "#partition sur le nombre de rotations\n",
    "#binary see eis A001263 narayana numbers\n",
    "#ternary see eis A108767\n",
    "#moyenne nb rotations tamari i*d/(d+1)\n",
    "N=3\n",
    "d=2\n",
    "moy=[]\n",
    "for n in range(2,N+1):\n",
    "    l=generer_tout_dyck(n,d,0)[0]\n",
    "    res=[0  for i in range(n)]\n",
    "    for e in l:\n",
    "        r=dyck_tamari(e,d)\n",
    "        r2=dyck_semi2(e,d)\n",
    "        if len(r)!=len(r2):\n",
    "            print (\"wesh\")\n",
    "        res[len(r)]=res[len(r)]+1\n",
    "    moy.append(  sum(  res[i]*i for i in range(0,n)   )/len(l)   )\n",
    "    print (res,sum(res))\n",
    "print (\"moyenne\")\n",
    "print (moy)        \n",
    "\n"
   ]
  },
  {
   "cell_type": "code",
   "execution_count": 10,
   "metadata": {},
   "outputs": [],
   "source": [
    "#nb aretes de l'ordre\n",
    "#tamari d=1 see oei A002054\n",
    "#N=5\n",
    "#d=2\n",
    "#moy=[]\n",
    "#for n in range(2,N+1):\n",
    "#    l=poset_dyck(n,d,1)[0]\n",
    "#    l=l.cover_relations_graph()\n",
    "#    print (l.size())"
   ]
  },
  {
   "cell_type": "code",
   "execution_count": 11,
   "metadata": {},
   "outputs": [],
   "source": [
    "#diff tamari semi\n",
    "#N=6\n",
    "#d=1\n",
    "#moy=[]\n",
    "#for n in range(3,N+1):\n",
    "#    l=poset_dyck(n,d,1)[0]\n",
    "#    l2=poset_dyck(n,d,0)[0]\n",
    "#    print (len(l.relations()))\n",
    "#    print (len(l.relations()) - len(l2.relations()))"
   ]
  },
  {
   "cell_type": "code",
   "execution_count": 12,
   "metadata": {},
   "outputs": [],
   "source": [
    "# ar=dyck_a_arbre([0,0,0],2)\n",
    "# l=rotations_tamari_d(ar,3)\n",
    "# for e in l:\n",
    "#     print  dyck_a_arbre(arbre_a_dyck(e),2)"
   ]
  },
  {
   "cell_type": "code",
   "execution_count": 13,
   "metadata": {},
   "outputs": [],
   "source": [
    "from functools import reduce \n",
    "from itertools import permutations\n",
    "#ca marche pour tout juska h=6 mais ne pas lancer pour 6 trop de temps\n",
    "def how_many_differences(list1, list2):\n",
    "    differences = []\n",
    "    for perm1 in list(permutations(list1)):\n",
    "        for perm2 in list(permutations(list2)):\n",
    "            differences.append(list(map(lambda x: x[0] != x[1], zip(perm1,perm2))).count(True))\n",
    "    \n",
    "    return min(differences)\n",
    "# d=2\n",
    "# h=5\n",
    "# l=generer_tout_dyck(h,d,0)[0]\n",
    "# for e in l:\n",
    "#     x=dyck_a_arbre2(e,2)\n",
    "#     ll=rotations_semi_g(x,3)\n",
    "#     xx=[ arbre_a_dyck2(i) for i in ll ]\n",
    "#     for e2 in xx:\n",
    "#         if how_many_differences(e,e2)>1:\n",
    "#             print e,e2"
   ]
  },
  {
   "cell_type": "code",
   "execution_count": 14,
   "metadata": {},
   "outputs": [],
   "source": [
    "# d=2\n",
    "# h=5\n",
    "# l=generer_tout_dyck(h,d,0)[0]\n",
    "# for e in l:\n",
    "#     x=dyck_a_arbre2(e,2)\n",
    "#     ll=rotations_semi_g(x,3)\n",
    "#     xx=[ arbre_a_dyck2(i) for i in ll ]\n",
    "#     for e2 in xx:\n",
    "#         #print e, e2\n",
    "#         for i in srange(len(e)-1,0,-1):\n",
    "#             if abs(e[i]-e2[i])>1:\n",
    "#                 p=len([1 for j in srange(0,len(e)) if abs(e[j]-e2[j])>=1])\n",
    "#                 q=[(e[j]-e[j-1])%2 for j in range(1,len(e))]+[(2*(h-1)-e[len(e)-1])%2 ]\n",
    "\n",
    "#                 if p>=3:\n",
    "#                     print e,\" -> \",e2,\"i\",i,\"p\",p ,\"ecart\",[e[j]-e[j-1] for j in range(1,len(e))]+[2*(h-1)-e[len(e)-1]],e[i]-e[i-1]\n",
    "#                     break"
   ]
  },
  {
   "cell_type": "code",
   "execution_count": 15,
   "metadata": {},
   "outputs": [],
   "source": [
    "# d=2\n",
    "# h=5\n",
    "# l=generer_tout_dyck(h,d,0)[0]\n",
    "# for e in l:\n",
    "#     x=dyck_a_arbre2(e,2)\n",
    "#     ll=rotations_semi_g(x,3)\n",
    "#     xx=[ arbre_a_dyck2(i) for i in ll ]\n",
    "#     for e2 in xx:\n",
    "#         #print e, e2\n",
    "#         for i in srange(len(e)-1,0,-1):\n",
    "#                 print e,\" -> \",e2\n",
    "#                 break"
   ]
  },
  {
   "cell_type": "code",
   "execution_count": null,
   "metadata": {},
   "outputs": [],
   "source": []
  },
  {
   "cell_type": "markdown",
   "metadata": {},
   "source": [
    "# P,y=poset_tree(13,1,0,5)\n",
    "#Q,y=poset_dyck(3,2,1)\n",
    "# print P.is_isomorphic(Q)\n",
    "# print len(P)"
   ]
  },
  {
   "cell_type": "code",
   "execution_count": 16,
   "metadata": {},
   "outputs": [],
   "source": [
    "# d=2\n",
    "# h=5\n",
    "# l=generer_tout_dyck(h,d,0)[0]\n",
    "# count=0\n",
    "# for e in l:\n",
    "#     x=dyck_a_arbre(e,2)\n",
    "#     ll=rotations_semi_g(x,3)\n",
    "#     xx=[ arbre_a_dyck(i) for i in ll ]    \n",
    "#     all_dyck_words = dyck_semi2(e,d)\n",
    "#     for element in all_dyck_words:\n",
    "#         if not (element in xx):\n",
    "#             count=count+1\n",
    "#             print e, element,xx\n",
    "#             break\n",
    "# print count"
   ]
  },
  {
   "cell_type": "code",
   "execution_count": 17,
   "metadata": {},
   "outputs": [],
   "source": [
    "# d=2\n",
    "# h=5\n",
    "# l=generer_tout_dyck(h,d,0)[0]\n",
    "# count=0\n",
    "# for e in l:\n",
    "#     x=dyck_a_arbre(e,2)\n",
    "#     ll=rotations_semi_g(x,3)\n",
    "#     xx=[ arbre_a_dyck(i) for i in ll ]    \n",
    "#     all_dyck_words = dyck_semi2(e,d)\n",
    "#     for element in xx:\n",
    "#         if not (element in all_dyck_words):\n",
    "#             count=count+1\n",
    "#             print e, element,xx\n",
    "#             break\n",
    "# print count\n",
    "def merge_dictionaries(x,z):\n",
    "    for key,value in x.items():\n",
    "        for e2 in z[key]:\n",
    "            if e2 not in value:\n",
    "                value.append(e2)"
   ]
  },
  {
   "cell_type": "code",
   "execution_count": 18,
   "metadata": {},
   "outputs": [],
   "source": [
    "from sage.combinat.posets.posets import FinitePoset\n",
    "def poset_dyck(n,d,typ):\n",
    "    y=generer_tout_dyck(n,d,typ)\n",
    "    D=y[1]\n",
    "    P = FinitePoset(DiGraph(D), facade=False)\n",
    "    #return [y[0],P.relations()]\n",
    "    return P, y[0]\n",
    "def poset_mix(n,d):\n",
    "    y1=generer_tout_dyck(n,d,0)\n",
    "    y2=generer_tout_dyck(n,d,1)\n",
    "    merge_dictionaries(y1[1],y2[1])\n",
    "    D=y1[1]\n",
    "    P = FinitePoset(DiGraph(D), facade=False)\n",
    "    return P, y1[0]\n",
    "\n",
    "\n",
    "\n",
    "from sage.combinat.posets.posets import FinitePoset\n",
    "def poset_tree(n,typ,dire,d):\n",
    "    y=generer_toutes_expressions(n,typ,dire,d)\n",
    "    l=y[1]\n",
    "    P = FinitePoset(DiGraph(dict([[i,l[i]] for i in range(len(l))])), facade=False)\n",
    "    #return [y[0],P.relations()]\n",
    "    return P, y[0]"
   ]
  },
  {
   "cell_type": "code",
   "execution_count": 19,
   "metadata": {},
   "outputs": [],
   "source": [
    "import functools \n",
    "\n",
    "def lower_bound(a,b,P):\n",
    "    lower_bounds = []\n",
    "    for element in P:\n",
    "        if P.is_lequal(element,a) and P.is_lequal(element,b):\n",
    "            lower_bounds.append(element)\n",
    "    \n",
    "    return lower_bounds\n",
    "\n",
    "def compute_pseudocomplements(P):\n",
    "    pseudoComplement = {}\n",
    "    for el1 in P:\n",
    "        lowerBoundIsZero = []\n",
    "\n",
    "        for el2 in P:\n",
    "            if lower_bound(el1,el2,P) == [P[0]]:\n",
    "                lowerBoundIsZero.append(el2)\n",
    "                \n",
    "        lowerBoundIsZero.sort(reverse=True)\n",
    "        pseudoComplementOfEl1 = lowerBoundIsZero[0] #if len(lowerBoundIsZero) > 1 else lowerBoundIsZero[0]\n",
    "        #print(el1,lowerBoundIsZero)\n",
    "        pseudoComplement[el1] = pseudoComplementOfEl1\n",
    "\n",
    "    return pseudoComplement"
   ]
  },
  {
   "cell_type": "code",
   "execution_count": 20,
   "metadata": {},
   "outputs": [
    {
     "name": "stdout",
     "output_type": "stream",
     "text": [
      "[[0, 1, 2, 3], [0, 0, 2, 3], [0, 1, 1, 3], [0, 1, 2, 2], [0, 0, 0, 3], [0, 0, 2, 2], [0, 0, 1, 3], [0, 1, 1, 1], [0, 1, 1, 2], [0, 0, 0, 0], [0, 0, 0, 2], [0, 0, 0, 1], [0, 0, 1, 1], [0, 0, 1, 2]]\n"
     ]
    }
   ],
   "source": [
    "P,y  = poset_dyck(4,1,1)\n",
    "print(y)"
   ]
  },
  {
   "cell_type": "code",
   "execution_count": 23,
   "metadata": {},
   "outputs": [
    {
     "name": "stdout",
     "output_type": "stream",
     "text": [
      "1 ,1 ,1 ,1 ,\n",
      "3 ,6 ,10 ,15 ,\n",
      "13 ,59 ,175 ,410 ,\n",
      "68 ,749 ,4053 ,15047 ,\n"
     ]
    }
   ],
   "source": [
    "n=5\n",
    "for i in range(1,n):\n",
    "    for j in range(1,n):\n",
    "        P,y  = poset_dyck(i,j,1)\n",
    "# P.is_meet_semilattice(certificate=True)\n",
    "# cmp = functools.cmp_to_key(P.is_lequal) #redefine the comparison using the new pose\n",
    "        print (len(P.relations()),\",\",end='')\n",
    "    print(\"\")"
   ]
  },
  {
   "cell_type": "code",
   "execution_count": 24,
   "metadata": {},
   "outputs": [
    {
     "name": "stdout",
     "output_type": "stream",
     "text": [
      "1 ,1 ,1 ,1 ,\n",
      "3 ,6 ,10 ,15 ,\n",
      "13 ,58 ,170 ,395 ,\n",
      "68 ,703 ,3685 ,13390 ,\n"
     ]
    }
   ],
   "source": [
    "n=5\n",
    "for i in range(1,n):\n",
    "    for j in range(1,n):\n",
    "        P,y  = poset_dyck(i,j,0)\n",
    "# P.is_meet_semilattice(certificate=True)\n",
    "# cmp = functools.cmp_to_key(P.is_lequal) #redefine the comparison using the new pose\n",
    "        print (len(P.relations()),\",\",end='')\n",
    "    print(\"\")"
   ]
  },
  {
   "cell_type": "code",
   "execution_count": 385,
   "metadata": {},
   "outputs": [
    {
     "name": "stdout",
     "output_type": "stream",
     "text": [
      "0 ,0 ,0 ,0 ,0 ,\n",
      "0 ,0 ,0 ,0 ,0 ,\n",
      "0 ,1 ,5 ,15 ,35 ,\n",
      "0 ,46 ,368 ,1657 ,5446 ,\n",
      "0 ,1442 ,19877 ,138085 ,649017 ,\n"
     ]
    }
   ],
   "source": [
    "n=3\n",
    "for i in range(1,n):\n",
    "    for j in range(1,n):\n",
    "        P,y  = poset_dyck(i,j,1)\n",
    "        Q,z  = poset_dyck(i,j,0)\n",
    "# P.is_meet_semilattice(certificate=True)\n",
    "# cmp = functools.cmp_to_key(P.is_lequal) #redefine the comparison using the new pose\n",
    "        print (len(P.relations())-len(Q.relations()),\",\",end='')\n",
    "    print(\"\")\n",
    "#voir  A000332   pour la troisième ligne"
   ]
  },
  {
   "cell_type": "code",
   "execution_count": 42,
   "metadata": {},
   "outputs": [
    {
     "name": "stdout",
     "output_type": "stream",
     "text": [
      "0 ,0 ,0 ,0 ,0 ,\n",
      "1 ,2 ,3 ,4 ,5 ,\n",
      "2 ,4 ,6 ,8 ,9 ,\n",
      "4 ,6 ,9 ,12 ,13 ,\n",
      "5 ,9 ,12 ,16 ,17 ,\n"
     ]
    }
   ],
   "source": [
    "n=6\n",
    "for i in range(1,n):\n",
    "    for j in range(1,n):\n",
    "        P,y  = poset_dyck(i,j,1)\n",
    "# P.is_meet_semilattice(certificate=True)\n",
    "# cmp = functools.cmp_to_key(P.is_lequal) #redefine the comparison using the new pose\n",
    "        G =  P.hasse_diagram().to_undirected()\n",
    "        print ((G.diameter()),\",\",end='')\n",
    "    print(\"\")"
   ]
  },
  {
   "cell_type": "code",
   "execution_count": 39,
   "metadata": {},
   "outputs": [
    {
     "name": "stdout",
     "output_type": "stream",
     "text": [
      "0 ,0 ,0 ,0 ,0 ,\n",
      "1 ,2 ,3 ,4 ,5 ,\n",
      "2 ,4 ,6 ,8 ,10 ,\n",
      "4 ,7 ,10 ,13 ,16 ,\n",
      "5 ,10 ,14 ,18 ,22 ,\n"
     ]
    }
   ],
   "source": [
    "n=6\n",
    "for i in range(1,n):\n",
    "    for j in range(1,n):\n",
    "        P,y  = poset_dyck(i,j,0)\n",
    "# P.is_meet_semilattice(certificate=True)\n",
    "# cmp = functools.cmp_to_key(P.is_lequal) #redefine the comparison using the new pose\n",
    "        G =  P.hasse_diagram().to_undirected()\n",
    "        print ((G.diameter()),\",\",end='')\n",
    "    print(\"\")"
   ]
  },
  {
   "cell_type": "code",
   "execution_count": 407,
   "metadata": {},
   "outputs": [
    {
     "name": "stdout",
     "output_type": "stream",
     "text": [
      "1 ,1 ,\n",
      "9 ,36 ,\n"
     ]
    }
   ],
   "source": [
    "n=3\n",
    "for i in range(1,n):\n",
    "    for j in range(1,n):\n",
    "        P,y  = poset_dyck(i,j,1)\n",
    "        Q,z  = poset_dyck(i,j,0)\n",
    "# P.is_meet_semilattice(certificate=True)\n",
    "# cmp = functools.cmp_to_key(P.is_lequal) #redefine the comparison using the new pose\n",
    "        print (len(P.relations())*len(Q.relations()),\",\",end='')\n",
    "    print(\"\")"
   ]
  },
  {
   "cell_type": "code",
   "execution_count": 394,
   "metadata": {},
   "outputs": [
    {
     "name": "stdout",
     "output_type": "stream",
     "text": [
      "2^4 * 17^2\n",
      "7 * 19 * 37 * 107\n",
      "3 * 5 * 7 * 11 * 67 * 193\n",
      "2 * 5 * 13 * 41 * 103 * 367\n",
      "3^3 * 7^2 * 37 * 149 * 233\n"
     ]
    }
   ],
   "source": [
    "for e in [4624 ,526547 ,14935305 ,201479330 ,1699431867 ,]:\n",
    "    print (factor(int(e)))\n",
    "    "
   ]
  },
  {
   "cell_type": "code",
   "execution_count": 289,
   "metadata": {},
   "outputs": [
    {
     "data": {
      "text/plain": [
       "1*x^4 + 5*x^5 + 15*x^6 + 35*x^7 + 70*x^8 + 126*x^9 + Order(x^10)"
      ]
     },
     "execution_count": 289,
     "metadata": {},
     "output_type": "execute_result"
    }
   ],
   "source": [
    "var('x')\n",
    "f=x^4/(1-x)^5\n",
    "f.series(x,10)"
   ]
  },
  {
   "cell_type": "code",
   "execution_count": 392,
   "metadata": {},
   "outputs": [
    {
     "name": "stdout",
     "output_type": "stream",
     "text": [
      "2^2 * 17\n",
      "7 * 107\n",
      "3 * 7 * 193\n",
      "41 * 367\n",
      "3^3 * 7 * 233\n"
     ]
    }
   ],
   "source": [
    "for e in [68 ,749 ,4053 ,15047 ,44037 ,]:\n",
    "    print (factor(int(e)))\n",
    "    "
   ]
  },
  {
   "cell_type": "code",
   "execution_count": null,
   "metadata": {},
   "outputs": [],
   "source": [
    "    "
   ]
  },
  {
   "cell_type": "code",
   "execution_count": 408,
   "metadata": {},
   "outputs": [
    {
     "name": "stdout",
     "output_type": "stream",
     "text": [
      "1 0\n",
      "68 0\n",
      "703 1\n"
     ]
    }
   ],
   "source": [
    "var('m,n')\n",
    "f=binomial((m+1)^2*n+m,n-1)*(m+1)/(n*(m*n+1))\n",
    "g=f.subs(n=4).simplify()\n",
    "for i in range(0,3):\n",
    "    print (g.subs(m=i),binomial((i+4),6))"
   ]
  },
  {
   "cell_type": "code",
   "execution_count": null,
   "metadata": {},
   "outputs": [],
   "source": []
  },
  {
   "cell_type": "code",
   "execution_count": 236,
   "metadata": {},
   "outputs": [
    {
     "name": "stdout",
     "output_type": "stream",
     "text": [
      "210\n",
      "5647\n"
     ]
    }
   ],
   "source": [
    "def multi_list(x,y):\n",
    "    r=0\n",
    "    for i in range(0,len(x)):\n",
    "        r+=x[i]*y[i]\n",
    "    return r\n",
    "c=[1,10,200,5647,197013,7942613]\n",
    "print (multi_list([10,20],c))\n",
    "print (multi_list([7,24,27],c))"
   ]
  },
  {
   "cell_type": "code",
   "execution_count": 175,
   "metadata": {},
   "outputs": [
    {
     "data": {
      "text/plain": [
       "18022"
      ]
     },
     "execution_count": 175,
     "metadata": {},
     "output_type": "execute_result"
    }
   ],
   "source": [
    "#[10,10,2,18]\n",
    "\n",
    "10*1+10*6+2*66+18*990"
   ]
  },
  {
   "cell_type": "code",
   "execution_count": 176,
   "metadata": {},
   "outputs": [
    {
     "data": {
      "text/plain": [
       "375165"
      ]
     },
     "execution_count": 176,
     "metadata": {},
     "output_type": "execute_result"
    }
   ],
   "source": [
    "#[1,12,12,14,20]\n",
    "1*1+12*6+12*66+14*990+20*18022"
   ]
  },
  {
   "cell_type": "code",
   "execution_count": 173,
   "metadata": {},
   "outputs": [
    {
     "data": {
      "text/plain": [
       "20.8170569304184"
      ]
     },
     "execution_count": 173,
     "metadata": {},
     "output_type": "execute_result"
    }
   ],
   "source": [
    "(375165/18022).n()"
   ]
  },
  {
   "cell_type": "code",
   "execution_count": 402,
   "metadata": {},
   "outputs": [],
   "source": [
    "def binom_of_what(n,x):\n",
    "    for i in range(1,x+1):\n",
    "        for j in range(1,x+1):\n",
    "            if binomial(i,j)==n:\n",
    "                print (i,j)\n",
    "#binom_of_what(4624,150)"
   ]
  },
  {
   "cell_type": "code",
   "execution_count": 32,
   "metadata": {},
   "outputs": [],
   "source": [
    "\n",
    "# pseudocompls = compute_pseudocomplements(P)\n",
    "# for e in pseudocompls:\n",
    "#     print e,pseudocompls[e]"
   ]
  },
  {
   "cell_type": "code",
   "execution_count": 33,
   "metadata": {},
   "outputs": [],
   "source": [
    "# print(pseudocompls)\n",
    "# P.show(figsize=10)\n",
    "\n",
    "#P[0] > P[10], P.is_gequal(P[0],P[10]) #note that 0 > 10 in the poset! this is what we want"
   ]
  },
  {
   "cell_type": "code",
   "execution_count": 34,
   "metadata": {},
   "outputs": [],
   "source": [
    "#afficher le complement de chaque dyck\n",
    "# pseudocompls = compute_pseudocomplements(P)\n",
    "\n",
    "# things_to_draw = []\n",
    "# s=set()\n",
    "# for key in pseudocompls:\n",
    "#     a = key\n",
    "#     astar = pseudocompls[key]\n",
    "    \n",
    "#     indexA = int(str(a))\n",
    "#     indexAStar = int(str(astar))\n",
    "#     s.add(*)\n",
    "    #print(y[indexA], y[indexAStar])\n",
    "#     print indexA,indexAStar\n",
    "#     print(arbre_a_dyck(y[indexA]),arbre_a_dyck(y[indexAStar]))\n",
    "# print s\n"
   ]
  },
  {
   "cell_type": "code",
   "execution_count": 35,
   "metadata": {},
   "outputs": [],
   "source": [
    "# lower_bound(21,21,P)"
   ]
  },
  {
   "cell_type": "code",
   "execution_count": null,
   "metadata": {},
   "outputs": [],
   "source": [
    "# P,y  = poset_tree(7,1,0,3)\n",
    "# P.chains()\n",
    "\n",
    "# y[int(str(P.top()))]"
   ]
  },
  {
   "cell_type": "code",
   "execution_count": null,
   "metadata": {},
   "outputs": [],
   "source": [
    "#import functools\n",
    "#def minimal_list_length(l):\n",
    "#    ll=map(len, l)\n",
    "#    x=ll.index(min(ll))\n",
    "#    return l[x]\n",
    "#minimal_list_length([[1,2],[3],[5,6]])"
   ]
  },
  {
   "cell_type": "code",
   "execution_count": null,
   "metadata": {},
   "outputs": [],
   "source": [
    "# P,y=poset_dyck(4,2,1)\n",
    "# P.show(figsize=15)"
   ]
  },
  {
   "cell_type": "code",
   "execution_count": 25,
   "metadata": {},
   "outputs": [],
   "source": [
    "def shortest_path_dyck(P,a,b):\n",
    "    if len(a)!=len(b):\n",
    "        return -1\n",
    "#     P,y=poset_dyck(len(a),d,typ)\n",
    "#     u=-1\n",
    "#     v=-1\n",
    "    for i in srange(0,len(P)):\n",
    "        if str(P[i])==str(tuple(a)):\n",
    "            u=i\n",
    "        if str(P[i])==str(tuple(b)):\n",
    "            v=i\n",
    "    H=P.hasse_diagram()\n",
    "    return H.shortest_path(P[u],P[v])\n",
    "#     return H.shortest_paths(P[u])\n",
    "# D=shortest_path_dyck([0,2,4],[0,0,0],2,1)\n",
    "# for e in D:\n",
    "#     print e,D[e]"
   ]
  },
  {
   "cell_type": "code",
   "execution_count": null,
   "metadata": {},
   "outputs": [],
   "source": [
    "# P,y=poset_dyck(3,2,1)\n",
    "# shortest_path_dyck(P,[0,0,2],[0,0,1])"
   ]
  },
  {
   "cell_type": "code",
   "execution_count": null,
   "metadata": {},
   "outputs": [],
   "source": []
  },
  {
   "cell_type": "code",
   "execution_count": 26,
   "metadata": {},
   "outputs": [],
   "source": [
    "def normalize(a):\n",
    "    r=deepcopy(a)\n",
    "    r[0]=0\n",
    "    diff=a[0]\n",
    "    for i in range(1,len(a)):\n",
    "        r[i]=a[i]-diff\n",
    "    return r"
   ]
  },
  {
   "cell_type": "code",
   "execution_count": 27,
   "metadata": {},
   "outputs": [],
   "source": [
    "def dyck_compare_ternary(b,a):\n",
    "    if dyck_larger_than(b,a,2)==0:\n",
    "        return 0\n",
    "    if len(a)==1 and a[0]==b[0]:\n",
    "        return 1\n",
    "    elif len(a)==2:\n",
    "        if a[1]==0:\n",
    "            return 1\n",
    "        elif a[1]==1 and b[1]>=1:\n",
    "            return 1\n",
    "        elif a[1]==2 and b[1]==2:\n",
    "            return 1\n",
    "        else:\n",
    "            return 0\n",
    "    else:\n",
    "        if b[:3]==[0,0,3] and (a[:3]==[0,0,2] or a[:3]==[0,0,1]):\n",
    "            return 0\n",
    "        elif b[:3]==[0,1,4] and (a[:3]==[0,1,3] or a[:3]==[0,1,2]):\n",
    "            return 0\n",
    "        else:\n",
    "            nb=deepcopy(b)\n",
    "            nb=normalize(nb[3:])\n",
    "            na=deepcopy(a)\n",
    "            na=normalize(na[3:])\n",
    "            if is_dyck_path(na,2) and is_dyck_path(nb,2):\n",
    "                return dyck_compare_ternary(nb,na)\n",
    "            \n",
    "    "
   ]
  },
  {
   "cell_type": "code",
   "execution_count": null,
   "metadata": {},
   "outputs": [],
   "source": []
  },
  {
   "cell_type": "code",
   "execution_count": null,
   "metadata": {},
   "outputs": [],
   "source": [
    "# def dyck_larger_than(a,b,d):\n",
    "#     if len(a)!=len(b):\n",
    "#         return -1\n",
    "#     else:\n",
    "#         for i in range(0,len(a)):\n",
    "#             if a[i]<b[i]:\n",
    "#                 return 0\n",
    "#         return 1\n",
    "# # print dyck_smaller_than([0,2,3],[0,1,3],2)\n",
    "# P,y=poset_dyck(5,2,1)\n",
    "\n",
    "# for i,j in generate_pairs_ordered(len(P)):\n",
    "# #     print i,y[i],y[j]\n",
    "#     x=shortest_path_dyck(P,y[i],y[j])\n",
    "#     if x!=[]:\n",
    "# #         print y[i],y[j],x\n",
    "#         if dyck_compare_ternary(y[i],y[j])==0:\n",
    "#             print \"probleme\",y[i],y[j],x\n",
    "\n",
    "# # for i,j in generate_pairs_ordered(len(P)):\n",
    "# # #     print i,y[i],y[j]\n",
    "# #     x=shortest_path_dyck(P,y[i],y[j])\n",
    "# #     if dyck_compare_ternary(y[i],y[j])==0:\n",
    "# # #         print y[i],y[j],x\n",
    "# #         if x!=[]:\n",
    "# #             print \"probleme\",y[i],y[j],x\n"
   ]
  },
  {
   "cell_type": "code",
   "execution_count": 693,
   "metadata": {},
   "outputs": [],
   "source": [
    "# P.show(figsize=10)"
   ]
  },
  {
   "cell_type": "code",
   "execution_count": null,
   "metadata": {},
   "outputs": [],
   "source": []
  }
 ],
 "metadata": {
  "kernelspec": {
   "display_name": "SageMath 9.0",
   "language": "sage",
   "name": "sagemath"
  },
  "language_info": {
   "codemirror_mode": {
    "name": "ipython",
    "version": 3
   },
   "file_extension": ".py",
   "mimetype": "text/x-python",
   "name": "python",
   "nbconvert_exporter": "python",
   "pygments_lexer": "ipython3",
   "version": "3.8.5"
  }
 },
 "nbformat": 4,
 "nbformat_minor": 2
}
